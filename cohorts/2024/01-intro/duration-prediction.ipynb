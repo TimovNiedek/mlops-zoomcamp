{
 "cells": [
  {
   "cell_type": "code",
   "execution_count": 1,
   "id": "76ceb58e-ae38-4cbf-82d6-9a579fc3a214",
   "metadata": {},
   "outputs": [],
   "source": [
    "import pandas as pd\n",
    "from sklearn.feature_extraction import DictVectorizer\n",
    "from sklearn.linear_model import LinearRegression\n",
    "from sklearn.metrics import root_mean_squared_error"
   ]
  },
  {
   "cell_type": "code",
   "execution_count": 2,
   "id": "6d233cc5-0d56-4402-a753-93ab159a43a3",
   "metadata": {},
   "outputs": [
    {
     "name": "stdout",
     "output_type": "stream",
     "text": [
      "--2024-05-14 10:02:06--  https://d37ci6vzurychx.cloudfront.net/trip-data/yellow_tripdata_2023-01.parquet\n",
      "Resolving d37ci6vzurychx.cloudfront.net (d37ci6vzurychx.cloudfront.net)... 13.32.23.25, 13.32.23.113, 13.32.23.129, ...\n",
      "Connecting to d37ci6vzurychx.cloudfront.net (d37ci6vzurychx.cloudfront.net)|13.32.23.25|:443... connected.\n",
      "HTTP request sent, awaiting response... 416 Requested Range Not Satisfiable\n",
      "\n",
      "    The file is already fully retrieved; nothing to do.\n",
      "\n",
      "--2024-05-14 10:02:06--  https://d37ci6vzurychx.cloudfront.net/trip-data/yellow_tripdata_2023-02.parquet\n",
      "Resolving d37ci6vzurychx.cloudfront.net (d37ci6vzurychx.cloudfront.net)... 13.32.23.25, 13.32.23.142, 13.32.23.129, ...\n",
      "Connecting to d37ci6vzurychx.cloudfront.net (d37ci6vzurychx.cloudfront.net)|13.32.23.25|:443... connected.\n",
      "HTTP request sent, awaiting response... 416 Requested Range Not Satisfiable\n",
      "\n",
      "    The file is already fully retrieved; nothing to do.\n",
      "\n"
     ]
    }
   ],
   "source": [
    "## Fetch data\n",
    "!wget -cP ~/data https://d37ci6vzurychx.cloudfront.net/trip-data/yellow_tripdata_2023-01.parquet\n",
    "!wget -cP ~/data https://d37ci6vzurychx.cloudfront.net/trip-data/yellow_tripdata_2023-02.parquet"
   ]
  },
  {
   "cell_type": "code",
   "execution_count": 3,
   "id": "ff062b8c-000f-48b3-af7e-a221aab2c42c",
   "metadata": {},
   "outputs": [],
   "source": [
    "yellow_jan = pd.read_parquet('~/data/yellow_tripdata_2023-01.parquet')\n",
    "yellow_feb = pd.read_parquet('~/data/yellow_tripdata_2023-02.parquet')"
   ]
  },
  {
   "cell_type": "markdown",
   "id": "b1b564d5-318d-41d4-9c93-25c882ae8c06",
   "metadata": {},
   "source": [
    "## Q1: how many columns in January data"
   ]
  },
  {
   "cell_type": "code",
   "execution_count": 4,
   "id": "3c03fe95-d84e-4a12-aa80-06e4e8f9574e",
   "metadata": {},
   "outputs": [
    {
     "data": {
      "text/plain": [
       "19"
      ]
     },
     "execution_count": 4,
     "metadata": {},
     "output_type": "execute_result"
    }
   ],
   "source": [
    "len(yellow_jan.dtypes)"
   ]
  },
  {
   "cell_type": "markdown",
   "id": "a05c9f3b-e8a3-404d-89a1-c30dd67f7feb",
   "metadata": {},
   "source": [
    "## Q2: standard deviation of trips in January"
   ]
  },
  {
   "cell_type": "code",
   "execution_count": 5,
   "id": "6075ef80-c359-48eb-9856-ab27a8bb1262",
   "metadata": {},
   "outputs": [],
   "source": [
    "yellow_jan['duration'] = yellow_jan.tpep_dropoff_datetime - yellow_jan.tpep_pickup_datetime\n",
    "\n",
    "# Convert to minutes\n",
    "yellow_jan.duration = yellow_jan.duration.apply(lambda td: td.total_seconds() / 60)"
   ]
  },
  {
   "cell_type": "code",
   "execution_count": 6,
   "id": "5f522f62-1bc2-41a7-9815-07483505df7e",
   "metadata": {},
   "outputs": [
    {
     "data": {
      "text/plain": [
       "42.594351241920904"
      ]
     },
     "execution_count": 6,
     "metadata": {},
     "output_type": "execute_result"
    }
   ],
   "source": [
    "yellow_jan.duration.std()"
   ]
  },
  {
   "cell_type": "markdown",
   "id": "b4196045-4c40-4a00-9e78-6d818497f586",
   "metadata": {},
   "source": [
    "## Q3: remove outliers"
   ]
  },
  {
   "cell_type": "code",
   "execution_count": 7,
   "id": "e67ffa27-16c7-4c2d-be5e-0d9bed0db570",
   "metadata": {},
   "outputs": [],
   "source": [
    "MIN_DURATION = 1\n",
    "MAX_DURATION = 60"
   ]
  },
  {
   "cell_type": "code",
   "execution_count": 8,
   "id": "eff15432-0d77-4b42-9cf3-746f566ffac4",
   "metadata": {},
   "outputs": [],
   "source": [
    "# Rows before dropping outliers\n",
    "before = len(yellow_jan)"
   ]
  },
  {
   "cell_type": "code",
   "execution_count": 9,
   "id": "2775ab32-4fa3-4b1e-bd82-808b7275c10e",
   "metadata": {},
   "outputs": [],
   "source": [
    "def drop_outliers(df, min_duration: int, max_duration: int) -> pd.DataFrame:\n",
    "    return df[(df.duration >= min_duration) & (df.duration <= max_duration)]"
   ]
  },
  {
   "cell_type": "code",
   "execution_count": 10,
   "id": "c3f91627-dc59-4f42-9711-fddb3b4f4789",
   "metadata": {},
   "outputs": [],
   "source": [
    "yellow_jan = drop_outliers(yellow_jan, MIN_DURATION, MAX_DURATION)"
   ]
  },
  {
   "cell_type": "code",
   "execution_count": 11,
   "id": "eb94341f-883d-4577-8975-900833dc7f4a",
   "metadata": {},
   "outputs": [],
   "source": [
    "after = len(yellow_jan)"
   ]
  },
  {
   "cell_type": "code",
   "execution_count": 12,
   "id": "f638654b-6620-4f57-8fb4-e99d2b511d91",
   "metadata": {},
   "outputs": [
    {
     "data": {
      "text/plain": [
       "0.9812202822125979"
      ]
     },
     "execution_count": 12,
     "metadata": {},
     "output_type": "execute_result"
    }
   ],
   "source": [
    "after / before"
   ]
  },
  {
   "cell_type": "markdown",
   "id": "a274932c-188f-4017-ad3b-70dcd4b6aec9",
   "metadata": {},
   "source": [
    "## Q4: One-hot encoding"
   ]
  },
  {
   "cell_type": "code",
   "execution_count": 13,
   "id": "f6852415-630b-45c1-8ffa-dab7d20c2e6c",
   "metadata": {},
   "outputs": [],
   "source": [
    "categorical = ['PULocationID', 'DOLocationID']"
   ]
  },
  {
   "cell_type": "code",
   "execution_count": 14,
   "id": "275cdd72-7595-4a46-930e-c8c4a46a9bc0",
   "metadata": {},
   "outputs": [],
   "source": [
    "yellow_jan[categorical] = yellow_jan[categorical].astype(str)"
   ]
  },
  {
   "cell_type": "code",
   "execution_count": 15,
   "id": "29571bfd-e471-4266-8b2a-0efdf93087f1",
   "metadata": {},
   "outputs": [],
   "source": [
    "dv = DictVectorizer()"
   ]
  },
  {
   "cell_type": "code",
   "execution_count": 16,
   "id": "81910db4-d4fe-4781-8f84-2c7060ec5712",
   "metadata": {},
   "outputs": [],
   "source": [
    "train_dicts = yellow_jan[categorical].to_dict(orient='records')\n",
    "X_train = dv.fit_transform(train_dicts)"
   ]
  },
  {
   "cell_type": "code",
   "execution_count": 17,
   "id": "985b07e4-a1fd-4ce4-be2a-c4f0f552cd9a",
   "metadata": {},
   "outputs": [
    {
     "data": {
      "text/plain": [
       "(3009173, 515)"
      ]
     },
     "execution_count": 17,
     "metadata": {},
     "output_type": "execute_result"
    }
   ],
   "source": [
    "X_train.shape"
   ]
  },
  {
   "cell_type": "markdown",
   "id": "be5318ae-cd3d-4588-994d-f073bc7b8aa1",
   "metadata": {},
   "source": [
    "## Q5: Linear Regression"
   ]
  },
  {
   "cell_type": "code",
   "execution_count": 18,
   "id": "cfd6b8b8-b90b-473f-965a-48f426510e76",
   "metadata": {},
   "outputs": [],
   "source": [
    "reg = LinearRegression()"
   ]
  },
  {
   "cell_type": "code",
   "execution_count": 19,
   "id": "7dad3550-3e3d-493f-9fb2-d4fab9301779",
   "metadata": {},
   "outputs": [],
   "source": [
    "y_train = yellow_jan.duration.to_numpy()"
   ]
  },
  {
   "cell_type": "code",
   "execution_count": 20,
   "id": "20c9b483-3bc9-4508-b645-0af9e48edc0f",
   "metadata": {},
   "outputs": [],
   "source": [
    "reg = reg.fit(X_train, y_train)"
   ]
  },
  {
   "cell_type": "code",
   "execution_count": 21,
   "id": "f6668542-c93e-4374-80f2-a2f124555fdf",
   "metadata": {},
   "outputs": [],
   "source": [
    "y_pred = reg.predict(X_train)"
   ]
  },
  {
   "cell_type": "code",
   "execution_count": 22,
   "id": "0fe5488d-efe9-4561-8adc-188d7320918c",
   "metadata": {},
   "outputs": [
    {
     "data": {
      "text/plain": [
       "7.6492619633678824"
      ]
     },
     "execution_count": 22,
     "metadata": {},
     "output_type": "execute_result"
    }
   ],
   "source": [
    "root_mean_squared_error(y_train, y_pred)"
   ]
  }
 ],
 "metadata": {
  "kernelspec": {
   "display_name": "Python 3 (ipykernel)",
   "language": "python",
   "name": "python3"
  },
  "language_info": {
   "codemirror_mode": {
    "name": "ipython",
    "version": 3
   },
   "file_extension": ".py",
   "mimetype": "text/x-python",
   "name": "python",
   "nbconvert_exporter": "python",
   "pygments_lexer": "ipython3",
   "version": "3.11.7"
  }
 },
 "nbformat": 4,
 "nbformat_minor": 5
}
