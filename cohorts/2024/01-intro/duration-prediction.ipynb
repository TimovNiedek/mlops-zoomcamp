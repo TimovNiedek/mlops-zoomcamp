{
 "cells": [
  {
   "cell_type": "code",
   "execution_count": 2,
   "id": "76ceb58e-ae38-4cbf-82d6-9a579fc3a214",
   "metadata": {},
   "outputs": [],
   "source": [
    "import pandas as pd"
   ]
  },
  {
   "cell_type": "code",
   "execution_count": 16,
   "id": "6d233cc5-0d56-4402-a753-93ab159a43a3",
   "metadata": {},
   "outputs": [
    {
     "name": "stdout",
     "output_type": "stream",
     "text": [
      "--2024-05-14 09:11:20--  https://d37ci6vzurychx.cloudfront.net/trip-data/yellow_tripdata_2023-01.parquet\n",
      "Resolving d37ci6vzurychx.cloudfront.net (d37ci6vzurychx.cloudfront.net)... 13.32.23.113, 13.32.23.25, 13.32.23.129, ...\n",
      "Connecting to d37ci6vzurychx.cloudfront.net (d37ci6vzurychx.cloudfront.net)|13.32.23.113|:443... connected.\n",
      "HTTP request sent, awaiting response... 416 Requested Range Not Satisfiable\n",
      "\n",
      "    The file is already fully retrieved; nothing to do.\n",
      "\n",
      "--2024-05-14 09:11:20--  https://d37ci6vzurychx.cloudfront.net/trip-data/yellow_tripdata_2023-02.parquet\n",
      "Resolving d37ci6vzurychx.cloudfront.net (d37ci6vzurychx.cloudfront.net)... 13.32.23.113, 13.32.23.142, 13.32.23.129, ...\n",
      "Connecting to d37ci6vzurychx.cloudfront.net (d37ci6vzurychx.cloudfront.net)|13.32.23.113|:443... connected.\n",
      "HTTP request sent, awaiting response... 416 Requested Range Not Satisfiable\n",
      "\n",
      "    The file is already fully retrieved; nothing to do.\n",
      "\n"
     ]
    }
   ],
   "source": [
    "## Fetch data\n",
    "!wget -cP ~/data https://d37ci6vzurychx.cloudfront.net/trip-data/yellow_tripdata_2023-01.parquet\n",
    "!wget -cP ~/data https://d37ci6vzurychx.cloudfront.net/trip-data/yellow_tripdata_2023-02.parquet"
   ]
  },
  {
   "cell_type": "code",
   "execution_count": 17,
   "id": "ff062b8c-000f-48b3-af7e-a221aab2c42c",
   "metadata": {},
   "outputs": [],
   "source": [
    "yellow_jan = pd.read_parquet('~/data/yellow_tripdata_2023-01.parquet')\n",
    "yellow_feb = pd.read_parquet('~/data/yellow_tripdata_2023-02.parquet')"
   ]
  },
  {
   "cell_type": "markdown",
   "id": "b1b564d5-318d-41d4-9c93-25c882ae8c06",
   "metadata": {},
   "source": [
    "## Q1: how many columns in January data"
   ]
  },
  {
   "cell_type": "code",
   "execution_count": 19,
   "id": "3c03fe95-d84e-4a12-aa80-06e4e8f9574e",
   "metadata": {},
   "outputs": [
    {
     "data": {
      "text/plain": [
       "19"
      ]
     },
     "execution_count": 19,
     "metadata": {},
     "output_type": "execute_result"
    }
   ],
   "source": [
    "len(yellow_jan.dtypes)"
   ]
  },
  {
   "cell_type": "markdown",
   "id": "a05c9f3b-e8a3-404d-89a1-c30dd67f7feb",
   "metadata": {},
   "source": [
    "## Q2: standard deviation of trips in January"
   ]
  },
  {
   "cell_type": "code",
   "execution_count": 27,
   "id": "6075ef80-c359-48eb-9856-ab27a8bb1262",
   "metadata": {},
   "outputs": [],
   "source": [
    "yellow_jan['duration'] = yellow_jan.tpep_dropoff_datetime - yellow_jan.tpep_pickup_datetime\n",
    "\n",
    "# Convert to minutes\n",
    "yellow_jan.duration = yellow_jan.duration.apply(lambda td: td.total_seconds() / 60)"
   ]
  },
  {
   "cell_type": "code",
   "execution_count": 31,
   "id": "5f522f62-1bc2-41a7-9815-07483505df7e",
   "metadata": {},
   "outputs": [
    {
     "data": {
      "text/plain": [
       "42.594351241920904"
      ]
     },
     "execution_count": 31,
     "metadata": {},
     "output_type": "execute_result"
    }
   ],
   "source": [
    "yellow_jan.duration.std()"
   ]
  }
 ],
 "metadata": {
  "kernelspec": {
   "display_name": "Python 3 (ipykernel)",
   "language": "python",
   "name": "python3"
  },
  "language_info": {
   "codemirror_mode": {
    "name": "ipython",
    "version": 3
   },
   "file_extension": ".py",
   "mimetype": "text/x-python",
   "name": "python",
   "nbconvert_exporter": "python",
   "pygments_lexer": "ipython3",
   "version": "3.11.7"
  }
 },
 "nbformat": 4,
 "nbformat_minor": 5
}
